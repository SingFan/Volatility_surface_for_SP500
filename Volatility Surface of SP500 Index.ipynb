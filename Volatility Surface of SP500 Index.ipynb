{
 "cells": [
  {
   "cell_type": "code",
   "execution_count": 1,
   "metadata": {},
   "outputs": [],
   "source": [
    "import yfinance as yf\n",
    "import pandas as pd\n",
    "import numpy as np\n",
    "import matplotlib.pyplot as plt\n",
    "from matplotlib import cm\n",
    "from datetime import date"
   ]
  },
  {
   "cell_type": "code",
   "execution_count": 2,
   "metadata": {},
   "outputs": [
    {
     "name": "stdout",
     "output_type": "stream",
     "text": [
      "{'exchange': 'SNP', 'shortName': 'S&P 500', 'exchangeTimezoneName': 'America/New_York', 'exchangeTimezoneShortName': 'EST', 'isEsgPopulated': False, 'gmtOffSetMilliseconds': '-18000000', 'quoteType': 'INDEX', 'symbol': '^GSPC', 'messageBoardId': 'finmb_INDEXGSPC', 'market': 'us_market', 'previousClose': 4477.44, 'regularMarketOpen': 4482.79, 'twoHundredDayAverage': 4444.2046, 'trailingAnnualDividendYield': None, 'payoutRatio': None, 'volume24Hr': None, 'regularMarketDayHigh': 4539.66, 'navPrice': None, 'averageDailyVolume10Day': 4006469000, 'totalAssets': None, 'regularMarketPreviousClose': 4477.44, 'fiftyDayAverage': 4619.071, 'trailingAnnualDividendRate': None, 'open': 4482.79, 'toCurrency': None, 'averageVolume10days': 4006469000, 'expireDate': None, 'yield': None, 'algorithm': None, 'dividendRate': None, 'exDividendDate': None, 'beta': None, 'circulatingSupply': None, 'startDate': None, 'regularMarketDayLow': 4451.5, 'priceHint': 2, 'currency': 'USD', 'regularMarketVolume': 2640944000, 'lastMarket': None, 'maxSupply': None, 'openInterest': None, 'marketCap': None, 'volumeAllCurrencies': None, 'strikePrice': None, 'averageVolume': 3353983870, 'priceToSalesTrailing12Months': None, 'dayLow': 4451.5, 'ask': 4615.43, 'ytdReturn': None, 'askSize': 0, 'volume': 2640944000, 'fiftyTwoWeekHigh': 4818.62, 'forwardPE': None, 'maxAge': 1, 'fromCurrency': None, 'fiveYearAvgDividendYield': None, 'fiftyTwoWeekLow': 3723.34, 'bid': 4420.5, 'tradeable': False, 'dividendYield': None, 'bidSize': 0, 'dayHigh': 4539.66, 'regularMarketPrice': 4500.53, 'logo_url': ''}\n"
     ]
    }
   ],
   "source": [
    "data = yf.Ticker(\"^GSPC\")\n",
    "print(data.info)"
   ]
  },
  {
   "cell_type": "code",
   "execution_count": 3,
   "metadata": {},
   "outputs": [],
   "source": [
    "# get historical market data\n",
    "pd_underlying_price = data.history(period=\"10y\")\n",
    "\n",
    "pd_vol_surface = pd.read_csv(\"volatility_surface.csv\")\n",
    "\n",
    "pd_vol_surface['date'] = pd.to_datetime(pd_vol_surface['date'], format='%Y%m%d')\n",
    "\n",
    "pd_vol_surface = pd_vol_surface.merge(pd_underlying_price[['Close']], left_on = 'date', right_index= True, how = 'left')\n",
    "\n",
    "pd_vol_surface['moneyness'] = (pd_vol_surface['impl_strike']/pd_vol_surface['Close']-1)*100"
   ]
  },
  {
   "cell_type": "code",
   "execution_count": 4,
   "metadata": {},
   "outputs": [],
   "source": [
    "year  = 2020\n",
    "month = 3\n",
    "day   = 17\n",
    "put_call_flag = 'C'\n"
   ]
  },
  {
   "cell_type": "code",
   "execution_count": 5,
   "metadata": {},
   "outputs": [],
   "source": [
    "pd_vol_surface_date = pd_vol_surface.loc[pd_vol_surface['date'].dt.date == date(year, month, day)]\n",
    "pd_vol_surface_date = pd_vol_surface_date.loc[(pd_vol_surface_date['days'] > 10) & (pd_vol_surface_date['days'] <= 122) & (pd_vol_surface_date['cp_flag'] == put_call_flag)]\n",
    "\n",
    "pd_vol_surface_date_group = pd_vol_surface_date.set_index(['days', 'moneyness'])\n",
    "pd_vol_surface_date_group.sort_index(level=1, ascending=False, sort_remaining=False, inplace = True)\n",
    "pd_vol_surface_date_group.sort_index(level=0, ascending=False, sort_remaining=False, inplace = True)\n",
    "pd_vol_surface_date = pd_vol_surface_date_group.reset_index(level=[0,1])\n",
    "\n",
    "N_T = len(pd_vol_surface_date.days.unique())\n",
    "\n",
    "X = np.reshape(pd_vol_surface_date['days'].values,(N_T,-1)).T\n",
    "Y = np.reshape(pd_vol_surface_date['moneyness'].values,(N_T,-1)).T\n",
    "Z = np.reshape(pd_vol_surface_date['impl_volatility'].values,(N_T,-1)).T\n"
   ]
  },
  {
   "cell_type": "code",
   "execution_count": 36,
   "metadata": {},
   "outputs": [
    {
     "data": {
      "application/vnd.jupyter.widget-view+json": {
       "model_id": "80b55ffaf8b64123b6a5e0982979ba02",
       "version_major": 2,
       "version_minor": 0
      },
      "text/plain": [
       "interactive(children=(IntSlider(value=0, description='E', max=90, min=-90, step=5), IntSlider(value=0, descrip…"
      ]
     },
     "metadata": {},
     "output_type": "display_data"
    }
   ],
   "source": [
    "from ipywidgets import interactive\n",
    "\n",
    "def plt_vol_surface(E,A):\n",
    "\n",
    "    fig = plt.figure(figsize = (12,8))\n",
    "    ax  = fig.gca(projection = \"3d\")\n",
    "    \n",
    "    # Plot the surface.\n",
    "    surf = ax.plot_surface(X, Y, Z, cmap='viridis',linewidth=1) # cmap=cm.coolwarm\n",
    "\n",
    "    ax.invert_xaxis()\n",
    "    ax.set_xlabel(\"Time to maturity ($T-t$)\")\n",
    "    ax.set_ylabel(\"moneynes ($S_t/K$)\")\n",
    "    ax.set_zlabel(\"Implied Volatility ($\\sigma_t$)\")\n",
    "    ax.set_title(f\"Volatility Surface on {year}-{month}-{day}\")\n",
    "\n",
    "    ax.view_init(E,A)\n",
    "    plt.show()\n",
    "\n",
    "# plt_vol_surface(0,0)\n",
    "iplot = interactive(plt_vol_surface, E = (-90, 90, 5), A = (-90, 90, 5))\n",
    "iplot"
   ]
  },
  {
   "cell_type": "code",
   "execution_count": null,
   "metadata": {},
   "outputs": [],
   "source": [
    "plt.figure()\n",
    "plt.plot(pd_underlying_price.Close)\n",
    "plt.ion()\n"
   ]
  }
 ],
 "metadata": {
  "kernelspec": {
   "display_name": "Python 3",
   "language": "python",
   "name": "python3"
  },
  "language_info": {
   "codemirror_mode": {
    "name": "ipython",
    "version": 3
   },
   "file_extension": ".py",
   "mimetype": "text/x-python",
   "name": "python",
   "nbconvert_exporter": "python",
   "pygments_lexer": "ipython3",
   "version": "3.6.10"
  }
 },
 "nbformat": 4,
 "nbformat_minor": 4
}
